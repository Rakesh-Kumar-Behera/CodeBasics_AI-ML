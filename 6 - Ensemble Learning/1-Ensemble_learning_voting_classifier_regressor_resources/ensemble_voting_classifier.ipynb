{
 "cells": [
  {
   "cell_type": "markdown",
   "id": "54c403d0",
   "metadata": {},
   "source": [
    "<h2 align=\"center\">Codebasics ML Course: Emsemble Learning: Voting Classifier</h2>"
   ]
  },
  {
   "cell_type": "markdown",
   "id": "2bcf73cc",
   "metadata": {},
   "source": [
    "### Problem Statement:  Classify raisins into one of the two categories,\n",
    "1. Kecimen\n",
    "1. Besni"
   ]
  },
  {
   "cell_type": "markdown",
   "id": "7184477f",
   "metadata": {},
   "source": [
    "### Dataset Citation\n",
    "This dataset is used under citation guidelines from the original authors. For detailed study and dataset description, see the following references:\n",
    "\n",
    "- **Citation**: Cinar, I., Koklu, M., & Tasdemir, S. (2020). Classification of Raisin Grains Using Machine Vision and Artificial Intelligence Methods. *Gazi Journal of Engineering Sciences, 6*(3), 200-209. DOI: [10.30855/gmbd.2020.03.03](https://doi.org/10.30855/gmbd.2020.03.03)\n",
    "- **Dataset available at**: [Murat Koklu's Dataset Page](https://www.muratkoklu.com/datasets/)\n",
    "- **Article download**: [DergiPark](https://dergipark.org.tr/tr/download/article-file/1227592)\n"
   ]
  },
  {
   "cell_type": "code",
   "execution_count": 1,
   "id": "06fd7acf",
   "metadata": {
    "scrolled": false
   },
   "outputs": [
    {
     "data": {
      "text/html": [
       "<div>\n",
       "<style scoped>\n",
       "    .dataframe tbody tr th:only-of-type {\n",
       "        vertical-align: middle;\n",
       "    }\n",
       "\n",
       "    .dataframe tbody tr th {\n",
       "        vertical-align: top;\n",
       "    }\n",
       "\n",
       "    .dataframe thead th {\n",
       "        text-align: right;\n",
       "    }\n",
       "</style>\n",
       "<table border=\"1\" class=\"dataframe\">\n",
       "  <thead>\n",
       "    <tr style=\"text-align: right;\">\n",
       "      <th></th>\n",
       "      <th>Area</th>\n",
       "      <th>MajorAxisLength</th>\n",
       "      <th>MinorAxisLength</th>\n",
       "      <th>Eccentricity</th>\n",
       "      <th>ConvexArea</th>\n",
       "      <th>Extent</th>\n",
       "      <th>Perimeter</th>\n",
       "      <th>Class</th>\n",
       "    </tr>\n",
       "  </thead>\n",
       "  <tbody>\n",
       "    <tr>\n",
       "      <th>328</th>\n",
       "      <td>57310</td>\n",
       "      <td>351.396481</td>\n",
       "      <td>209.881228</td>\n",
       "      <td>0.802035</td>\n",
       "      <td>59225</td>\n",
       "      <td>0.699833</td>\n",
       "      <td>940.413</td>\n",
       "      <td>Kecimen</td>\n",
       "    </tr>\n",
       "    <tr>\n",
       "      <th>347</th>\n",
       "      <td>61967</td>\n",
       "      <td>364.784018</td>\n",
       "      <td>218.566173</td>\n",
       "      <td>0.800625</td>\n",
       "      <td>63724</td>\n",
       "      <td>0.687300</td>\n",
       "      <td>981.059</td>\n",
       "      <td>Kecimen</td>\n",
       "    </tr>\n",
       "    <tr>\n",
       "      <th>552</th>\n",
       "      <td>204864</td>\n",
       "      <td>596.639802</td>\n",
       "      <td>440.497127</td>\n",
       "      <td>0.674476</td>\n",
       "      <td>209457</td>\n",
       "      <td>0.751009</td>\n",
       "      <td>1726.246</td>\n",
       "      <td>Besni</td>\n",
       "    </tr>\n",
       "    <tr>\n",
       "      <th>602</th>\n",
       "      <td>74966</td>\n",
       "      <td>465.360816</td>\n",
       "      <td>209.279646</td>\n",
       "      <td>0.893172</td>\n",
       "      <td>78159</td>\n",
       "      <td>0.712415</td>\n",
       "      <td>1157.089</td>\n",
       "      <td>Besni</td>\n",
       "    </tr>\n",
       "    <tr>\n",
       "      <th>889</th>\n",
       "      <td>79058</td>\n",
       "      <td>454.437216</td>\n",
       "      <td>236.964252</td>\n",
       "      <td>0.853285</td>\n",
       "      <td>82555</td>\n",
       "      <td>0.578256</td>\n",
       "      <td>1175.034</td>\n",
       "      <td>Besni</td>\n",
       "    </tr>\n",
       "  </tbody>\n",
       "</table>\n",
       "</div>"
      ],
      "text/plain": [
       "       Area  MajorAxisLength  MinorAxisLength  Eccentricity  ConvexArea  \\\n",
       "328   57310       351.396481       209.881228      0.802035       59225   \n",
       "347   61967       364.784018       218.566173      0.800625       63724   \n",
       "552  204864       596.639802       440.497127      0.674476      209457   \n",
       "602   74966       465.360816       209.279646      0.893172       78159   \n",
       "889   79058       454.437216       236.964252      0.853285       82555   \n",
       "\n",
       "       Extent  Perimeter    Class  \n",
       "328  0.699833    940.413  Kecimen  \n",
       "347  0.687300    981.059  Kecimen  \n",
       "552  0.751009   1726.246    Besni  \n",
       "602  0.712415   1157.089    Besni  \n",
       "889  0.578256   1175.034    Besni  "
      ]
     },
     "execution_count": 1,
     "metadata": {},
     "output_type": "execute_result"
    }
   ],
   "source": [
    "import pandas as pd\n",
    "\n",
    "df = pd.read_excel(\"Raisin_Dataset.xlsx\")\n",
    "df.sample(5)"
   ]
  },
  {
   "cell_type": "code",
   "execution_count": 2,
   "id": "ea7819d4",
   "metadata": {},
   "outputs": [
    {
     "data": {
      "text/plain": [
       "(900, 8)"
      ]
     },
     "execution_count": 2,
     "metadata": {},
     "output_type": "execute_result"
    }
   ],
   "source": [
    "df.shape"
   ]
  },
  {
   "cell_type": "markdown",
   "id": "b5fc6f81",
   "metadata": {},
   "source": [
    "There are total 900 records and using all the features that we have available, we will build a classification model by using support vector machine "
   ]
  },
  {
   "cell_type": "markdown",
   "id": "85d7bd70",
   "metadata": {},
   "source": [
    "### Train Test Split"
   ]
  },
  {
   "cell_type": "code",
   "execution_count": 3,
   "id": "977bacbc",
   "metadata": {},
   "outputs": [],
   "source": [
    "X = df[[\"Area\", \"MajorAxisLength\", \"MinorAxisLength\", \"Eccentricity\", \"ConvexArea\", \"Extent\", \"Perimeter\"]]\n",
    "y = df[\"Class\"]\n",
    "\n",
    "from sklearn.model_selection import train_test_split\n",
    "\n",
    "X_train, X_test, y_train, y_test = train_test_split(X, y, test_size=0.2, random_state=10)"
   ]
  },
  {
   "cell_type": "markdown",
   "id": "de4beaef",
   "metadata": {},
   "source": [
    "### Model Training Using SVM: RBF Kernel"
   ]
  },
  {
   "cell_type": "code",
   "execution_count": 5,
   "id": "9b7f6bb2",
   "metadata": {
    "scrolled": true
   },
   "outputs": [
    {
     "name": "stdout",
     "output_type": "stream",
     "text": [
      "              precision    recall  f1-score   support\n",
      "\n",
      "       Besni       0.86      0.75      0.80        83\n",
      "     Kecimen       0.81      0.90      0.85        97\n",
      "\n",
      "    accuracy                           0.83       180\n",
      "   macro avg       0.83      0.82      0.82       180\n",
      "weighted avg       0.83      0.83      0.83       180\n",
      "\n"
     ]
    }
   ],
   "source": [
    "from sklearn.svm import SVC\n",
    "\n",
    "model = SVC(kernel=\"rbf\")\n",
    "model.fit(X_train, y_train)\n",
    "\n",
    "y_pred = model.predict(X_test)\n",
    "\n",
    "from sklearn.metrics import classification_report\n",
    "\n",
    "report = classification_report(y_test, y_pred)\n",
    "print(report)\n",
    "\n",
    "# model.n_iter_"
   ]
  },
  {
   "cell_type": "markdown",
   "id": "06d84b3e",
   "metadata": {},
   "source": [
    "### Train different models and use majority voting"
   ]
  },
  {
   "cell_type": "code",
   "execution_count": 6,
   "id": "35231625",
   "metadata": {},
   "outputs": [
    {
     "data": {
      "text/plain": [
       "VotingClassifier(estimators=[('lr', LogisticRegression()),\n",
       "                             ('dt', DecisionTreeClassifier()),\n",
       "                             ('svm', SVC(probability=True))])"
      ]
     },
     "execution_count": 6,
     "metadata": {},
     "output_type": "execute_result"
    }
   ],
   "source": [
    "from sklearn.ensemble import VotingClassifier\n",
    "from sklearn.linear_model import LogisticRegression\n",
    "from sklearn.tree import DecisionTreeClassifier\n",
    "from sklearn.svm import SVC\n",
    "\n",
    "# Create different models\n",
    "log_model = LogisticRegression()\n",
    "dt_model = DecisionTreeClassifier()\n",
    "svm_model = SVC(probability=True)\n",
    "\n",
    "# Create a voting classifier\n",
    "voting_clf = VotingClassifier(\n",
    "    estimators=[('lr', log_model), ('dt', dt_model), ('svm', svm_model)],\n",
    "    voting='hard')  # Use 'soft' for soft voting\n",
    "\n",
    "voting_clf.fit(X_train, y_train)"
   ]
  },
  {
   "cell_type": "code",
   "execution_count": 7,
   "id": "014c45af",
   "metadata": {},
   "outputs": [
    {
     "name": "stdout",
     "output_type": "stream",
     "text": [
      "              precision    recall  f1-score   support\n",
      "\n",
      "       Besni       0.93      0.83      0.88        83\n",
      "     Kecimen       0.87      0.95      0.91        97\n",
      "\n",
      "    accuracy                           0.89       180\n",
      "   macro avg       0.90      0.89      0.89       180\n",
      "weighted avg       0.90      0.89      0.89       180\n",
      "\n"
     ]
    }
   ],
   "source": [
    "y_pred = voting_clf.predict(X_test)\n",
    "\n",
    "report = classification_report(y_test, y_pred)\n",
    "print(report)"
   ]
  },
  {
   "cell_type": "markdown",
   "id": "b8b1c570",
   "metadata": {},
   "source": [
    "As you can see above, the model performance (i.e. precision, recall, accuracy etc.) has improved compared to stand alone SVC model that we trained earlier"
   ]
  }
 ],
 "metadata": {
  "kernelspec": {
   "display_name": "Python 3 (ipykernel)",
   "language": "python",
   "name": "python3"
  },
  "language_info": {
   "codemirror_mode": {
    "name": "ipython",
    "version": 3
   },
   "file_extension": ".py",
   "mimetype": "text/x-python",
   "name": "python",
   "nbconvert_exporter": "python",
   "pygments_lexer": "ipython3",
   "version": "3.9.13"
  }
 },
 "nbformat": 4,
 "nbformat_minor": 5
}
