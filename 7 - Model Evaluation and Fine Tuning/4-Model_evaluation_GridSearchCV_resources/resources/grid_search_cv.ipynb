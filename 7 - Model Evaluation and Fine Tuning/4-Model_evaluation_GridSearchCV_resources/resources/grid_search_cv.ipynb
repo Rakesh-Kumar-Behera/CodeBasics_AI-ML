{
 "cells": [
  {
   "cell_type": "markdown",
   "id": "ecc27d8b",
   "metadata": {},
   "source": [
    "<h3 align=\"center\">Codebasics ML Course: Grid Search CV</h3>"
   ]
  },
  {
   "cell_type": "markdown",
   "id": "1d15a7e7",
   "metadata": {},
   "source": [
    "We will generate a synthetic dataset"
   ]
  },
  {
   "cell_type": "code",
   "execution_count": 6,
   "id": "35b4a286",
   "metadata": {},
   "outputs": [],
   "source": [
    "import numpy as np\n",
    "import pandas as pd\n",
    "import matplotlib.pyplot as plt\n",
    "from sklearn.datasets import make_classification\n",
    "from sklearn.model_selection import train_test_split\n",
    "\n",
    "X, y = make_classification(\n",
    "    n_features=10, \n",
    "    n_samples=1000, \n",
    "    n_informative=8,\n",
    "    n_redundant=2,\n",
    "    n_repeated=0,\n",
    "    n_classes=2, \n",
    "    random_state=42\n",
    ")"
   ]
  },
  {
   "cell_type": "markdown",
   "id": "c94e09c3",
   "metadata": {},
   "source": [
    "### Method 1: Evaluate the model using train, test split and tune parameters by trial and error"
   ]
  },
  {
   "cell_type": "code",
   "execution_count": 7,
   "id": "fae28738",
   "metadata": {
    "scrolled": true
   },
   "outputs": [
    {
     "name": "stdout",
     "output_type": "stream",
     "text": [
      "              precision    recall  f1-score   support\n",
      "\n",
      "           0       0.83      0.78      0.80       130\n",
      "           1       0.78      0.83      0.80       120\n",
      "\n",
      "    accuracy                           0.80       250\n",
      "   macro avg       0.80      0.81      0.80       250\n",
      "weighted avg       0.81      0.80      0.80       250\n",
      "\n"
     ]
    }
   ],
   "source": [
    "from sklearn.metrics import classification_report\n",
    "from sklearn.tree import DecisionTreeClassifier\n",
    "\n",
    "# Split data into training and test sets\n",
    "X_train, X_test, y_train, y_test = train_test_split(X, y, test_size=0.25, random_state=42)\n",
    "\n",
    "model = DecisionTreeClassifier(criterion=\"entropy\", max_depth=10) # criteria: \"gini\" or \"entropy\", max_depth=5 or 10\n",
    "model.fit(X_train, y_train)\n",
    "\n",
    "y_pred = model.predict(X_test)\n",
    "report = classification_report(y_test, y_pred)\n",
    "print(report)"
   ]
  },
  {
   "cell_type": "markdown",
   "id": "3990e05c",
   "metadata": {},
   "source": [
    "### Method 2: Use K Fold Cross Validation"
   ]
  },
  {
   "cell_type": "code",
   "execution_count": 8,
   "id": "d25d4de4",
   "metadata": {},
   "outputs": [
    {
     "data": {
      "text/plain": [
       "array([0.78 , 0.785, 0.75 , 0.795, 0.775])"
      ]
     },
     "execution_count": 8,
     "metadata": {},
     "output_type": "execute_result"
    }
   ],
   "source": [
    "from sklearn.model_selection import cross_val_score\n",
    "\n",
    "cross_val_score(DecisionTreeClassifier(criterion=\"gini\", max_depth=5), X, y, cv=5)"
   ]
  },
  {
   "cell_type": "code",
   "execution_count": 9,
   "id": "7a9f9b4e",
   "metadata": {},
   "outputs": [
    {
     "data": {
      "text/plain": [
       "array([0.765, 0.785, 0.76 , 0.81 , 0.785])"
      ]
     },
     "execution_count": 9,
     "metadata": {},
     "output_type": "execute_result"
    }
   ],
   "source": [
    "cross_val_score(DecisionTreeClassifier(criterion=\"entropy\", max_depth=5), X, y, cv=5)"
   ]
  },
  {
   "cell_type": "code",
   "execution_count": 10,
   "id": "666fbcf0",
   "metadata": {},
   "outputs": [
    {
     "data": {
      "text/plain": [
       "{'gini_5': 0.778,\n",
       " 'gini_10': 0.783,\n",
       " 'gini_15': 0.787,\n",
       " 'entropy_5': 0.7789999999999999,\n",
       " 'entropy_10': 0.784,\n",
       " 'entropy_15': 0.8089999999999999}"
      ]
     },
     "execution_count": 10,
     "metadata": {},
     "output_type": "execute_result"
    }
   ],
   "source": [
    "criterion = [\"gini\", \"entropy\"]\n",
    "max_depth = [5, 10, 15]\n",
    "\n",
    "avg_scores = {}\n",
    "\n",
    "for c in criterion:\n",
    "    for d in max_depth:\n",
    "        clf = DecisionTreeClassifier(criterion=c, max_depth=d)\n",
    "        score_list = cross_val_score(clf, X, y, cv=5)\n",
    "        avg_scores[c + \"_\" + str(d)] = np.average(score_list)\n",
    "        \n",
    "avg_scores"
   ]
  },
  {
   "cell_type": "markdown",
   "id": "49dae55a",
   "metadata": {},
   "source": [
    "### Method 3: Use GridSearchCV"
   ]
  },
  {
   "cell_type": "code",
   "execution_count": 11,
   "id": "2f48de5b",
   "metadata": {
    "scrolled": false
   },
   "outputs": [
    {
     "data": {
      "text/plain": [
       "{'mean_fit_time': array([0.00357151, 0.00450606, 0.0045732 , 0.00540333, 0.00692348,\n",
       "        0.00758023]),\n",
       " 'std_fit_time': array([0.00045685, 0.00049501, 0.00041782, 0.00031715, 0.00051849,\n",
       "        0.00063177]),\n",
       " 'mean_score_time': array([0.00030355, 0.00012255, 0.00042081, 0.00019965, 0.00020409,\n",
       "        0.00061212]),\n",
       " 'std_score_time': array([0.00039946, 0.00024509, 0.00051564, 0.0003993 , 0.00040817,\n",
       "        0.00050071]),\n",
       " 'param_criterion': masked_array(data=['gini', 'gini', 'gini', 'entropy', 'entropy',\n",
       "                    'entropy'],\n",
       "              mask=[False, False, False, False, False, False],\n",
       "        fill_value='?',\n",
       "             dtype=object),\n",
       " 'param_max_depth': masked_array(data=[5, 10, 15, 5, 10, 15],\n",
       "              mask=[False, False, False, False, False, False],\n",
       "        fill_value='?',\n",
       "             dtype=object),\n",
       " 'params': [{'criterion': 'gini', 'max_depth': 5},\n",
       "  {'criterion': 'gini', 'max_depth': 10},\n",
       "  {'criterion': 'gini', 'max_depth': 15},\n",
       "  {'criterion': 'entropy', 'max_depth': 5},\n",
       "  {'criterion': 'entropy', 'max_depth': 10},\n",
       "  {'criterion': 'entropy', 'max_depth': 15}],\n",
       " 'split0_test_score': array([0.775, 0.81 , 0.815, 0.765, 0.775, 0.78 ]),\n",
       " 'split1_test_score': array([0.785, 0.74 , 0.715, 0.78 , 0.79 , 0.795]),\n",
       " 'split2_test_score': array([0.75 , 0.8  , 0.81 , 0.765, 0.83 , 0.825]),\n",
       " 'split3_test_score': array([0.795, 0.775, 0.815, 0.815, 0.77 , 0.805]),\n",
       " 'split4_test_score': array([0.77 , 0.81 , 0.81 , 0.785, 0.79 , 0.85 ]),\n",
       " 'mean_test_score': array([0.775, 0.787, 0.793, 0.782, 0.791, 0.811]),\n",
       " 'std_test_score': array([0.01516575, 0.02675818, 0.03906405, 0.0183303 , 0.02107131,\n",
       "        0.02437212]),\n",
       " 'rank_test_score': array([6, 4, 2, 5, 3, 1])}"
      ]
     },
     "execution_count": 11,
     "metadata": {},
     "output_type": "execute_result"
    }
   ],
   "source": [
    "from sklearn.model_selection import GridSearchCV\n",
    "\n",
    "clf = GridSearchCV(\n",
    "    DecisionTreeClassifier(),\n",
    "    {'criterion': [\"gini\", \"entropy\"],'max_depth': [5, 10, 15]},\n",
    "    cv=5,\n",
    "    return_train_score=False\n",
    ")\n",
    "clf.fit(X, y)\n",
    "clf.cv_results_"
   ]
  },
  {
   "cell_type": "code",
   "execution_count": 12,
   "id": "2d3a3e8c",
   "metadata": {},
   "outputs": [
    {
     "data": {
      "text/html": [
       "<div>\n",
       "<style scoped>\n",
       "    .dataframe tbody tr th:only-of-type {\n",
       "        vertical-align: middle;\n",
       "    }\n",
       "\n",
       "    .dataframe tbody tr th {\n",
       "        vertical-align: top;\n",
       "    }\n",
       "\n",
       "    .dataframe thead th {\n",
       "        text-align: right;\n",
       "    }\n",
       "</style>\n",
       "<table border=\"1\" class=\"dataframe\">\n",
       "  <thead>\n",
       "    <tr style=\"text-align: right;\">\n",
       "      <th></th>\n",
       "      <th>mean_fit_time</th>\n",
       "      <th>std_fit_time</th>\n",
       "      <th>mean_score_time</th>\n",
       "      <th>std_score_time</th>\n",
       "      <th>param_criterion</th>\n",
       "      <th>param_max_depth</th>\n",
       "      <th>params</th>\n",
       "      <th>split0_test_score</th>\n",
       "      <th>split1_test_score</th>\n",
       "      <th>split2_test_score</th>\n",
       "      <th>split3_test_score</th>\n",
       "      <th>split4_test_score</th>\n",
       "      <th>mean_test_score</th>\n",
       "      <th>std_test_score</th>\n",
       "      <th>rank_test_score</th>\n",
       "    </tr>\n",
       "  </thead>\n",
       "  <tbody>\n",
       "    <tr>\n",
       "      <th>0</th>\n",
       "      <td>0.003572</td>\n",
       "      <td>0.000457</td>\n",
       "      <td>0.000304</td>\n",
       "      <td>0.000399</td>\n",
       "      <td>gini</td>\n",
       "      <td>5</td>\n",
       "      <td>{'criterion': 'gini', 'max_depth': 5}</td>\n",
       "      <td>0.775</td>\n",
       "      <td>0.785</td>\n",
       "      <td>0.75</td>\n",
       "      <td>0.795</td>\n",
       "      <td>0.77</td>\n",
       "      <td>0.775</td>\n",
       "      <td>0.015166</td>\n",
       "      <td>6</td>\n",
       "    </tr>\n",
       "    <tr>\n",
       "      <th>1</th>\n",
       "      <td>0.004506</td>\n",
       "      <td>0.000495</td>\n",
       "      <td>0.000123</td>\n",
       "      <td>0.000245</td>\n",
       "      <td>gini</td>\n",
       "      <td>10</td>\n",
       "      <td>{'criterion': 'gini', 'max_depth': 10}</td>\n",
       "      <td>0.810</td>\n",
       "      <td>0.740</td>\n",
       "      <td>0.80</td>\n",
       "      <td>0.775</td>\n",
       "      <td>0.81</td>\n",
       "      <td>0.787</td>\n",
       "      <td>0.026758</td>\n",
       "      <td>4</td>\n",
       "    </tr>\n",
       "    <tr>\n",
       "      <th>2</th>\n",
       "      <td>0.004573</td>\n",
       "      <td>0.000418</td>\n",
       "      <td>0.000421</td>\n",
       "      <td>0.000516</td>\n",
       "      <td>gini</td>\n",
       "      <td>15</td>\n",
       "      <td>{'criterion': 'gini', 'max_depth': 15}</td>\n",
       "      <td>0.815</td>\n",
       "      <td>0.715</td>\n",
       "      <td>0.81</td>\n",
       "      <td>0.815</td>\n",
       "      <td>0.81</td>\n",
       "      <td>0.793</td>\n",
       "      <td>0.039064</td>\n",
       "      <td>2</td>\n",
       "    </tr>\n",
       "  </tbody>\n",
       "</table>\n",
       "</div>"
      ],
      "text/plain": [
       "   mean_fit_time  std_fit_time  mean_score_time  std_score_time  \\\n",
       "0       0.003572      0.000457         0.000304        0.000399   \n",
       "1       0.004506      0.000495         0.000123        0.000245   \n",
       "2       0.004573      0.000418         0.000421        0.000516   \n",
       "\n",
       "  param_criterion param_max_depth                                  params  \\\n",
       "0            gini               5   {'criterion': 'gini', 'max_depth': 5}   \n",
       "1            gini              10  {'criterion': 'gini', 'max_depth': 10}   \n",
       "2            gini              15  {'criterion': 'gini', 'max_depth': 15}   \n",
       "\n",
       "   split0_test_score  split1_test_score  split2_test_score  split3_test_score  \\\n",
       "0              0.775              0.785               0.75              0.795   \n",
       "1              0.810              0.740               0.80              0.775   \n",
       "2              0.815              0.715               0.81              0.815   \n",
       "\n",
       "   split4_test_score  mean_test_score  std_test_score  rank_test_score  \n",
       "0               0.77            0.775        0.015166                6  \n",
       "1               0.81            0.787        0.026758                4  \n",
       "2               0.81            0.793        0.039064                2  "
      ]
     },
     "execution_count": 12,
     "metadata": {},
     "output_type": "execute_result"
    }
   ],
   "source": [
    "df = pd.DataFrame(clf.cv_results_)\n",
    "df.head(3)"
   ]
  },
  {
   "cell_type": "code",
   "execution_count": 13,
   "id": "462801b7",
   "metadata": {},
   "outputs": [
    {
     "data": {
      "text/html": [
       "<div>\n",
       "<style scoped>\n",
       "    .dataframe tbody tr th:only-of-type {\n",
       "        vertical-align: middle;\n",
       "    }\n",
       "\n",
       "    .dataframe tbody tr th {\n",
       "        vertical-align: top;\n",
       "    }\n",
       "\n",
       "    .dataframe thead th {\n",
       "        text-align: right;\n",
       "    }\n",
       "</style>\n",
       "<table border=\"1\" class=\"dataframe\">\n",
       "  <thead>\n",
       "    <tr style=\"text-align: right;\">\n",
       "      <th></th>\n",
       "      <th>param_criterion</th>\n",
       "      <th>param_max_depth</th>\n",
       "      <th>mean_test_score</th>\n",
       "    </tr>\n",
       "  </thead>\n",
       "  <tbody>\n",
       "    <tr>\n",
       "      <th>0</th>\n",
       "      <td>gini</td>\n",
       "      <td>5</td>\n",
       "      <td>0.775</td>\n",
       "    </tr>\n",
       "    <tr>\n",
       "      <th>1</th>\n",
       "      <td>gini</td>\n",
       "      <td>10</td>\n",
       "      <td>0.787</td>\n",
       "    </tr>\n",
       "    <tr>\n",
       "      <th>2</th>\n",
       "      <td>gini</td>\n",
       "      <td>15</td>\n",
       "      <td>0.793</td>\n",
       "    </tr>\n",
       "    <tr>\n",
       "      <th>3</th>\n",
       "      <td>entropy</td>\n",
       "      <td>5</td>\n",
       "      <td>0.782</td>\n",
       "    </tr>\n",
       "    <tr>\n",
       "      <th>4</th>\n",
       "      <td>entropy</td>\n",
       "      <td>10</td>\n",
       "      <td>0.791</td>\n",
       "    </tr>\n",
       "    <tr>\n",
       "      <th>5</th>\n",
       "      <td>entropy</td>\n",
       "      <td>15</td>\n",
       "      <td>0.811</td>\n",
       "    </tr>\n",
       "  </tbody>\n",
       "</table>\n",
       "</div>"
      ],
      "text/plain": [
       "  param_criterion param_max_depth  mean_test_score\n",
       "0            gini               5            0.775\n",
       "1            gini              10            0.787\n",
       "2            gini              15            0.793\n",
       "3         entropy               5            0.782\n",
       "4         entropy              10            0.791\n",
       "5         entropy              15            0.811"
      ]
     },
     "execution_count": 13,
     "metadata": {},
     "output_type": "execute_result"
    }
   ],
   "source": [
    "df[[\"param_criterion\", \"param_max_depth\", \"mean_test_score\"]]"
   ]
  },
  {
   "cell_type": "code",
   "execution_count": 14,
   "id": "8d83811f",
   "metadata": {
    "scrolled": true
   },
   "outputs": [
    {
     "data": {
      "text/plain": [
       "{'criterion': 'entropy', 'max_depth': 15}"
      ]
     },
     "execution_count": 14,
     "metadata": {},
     "output_type": "execute_result"
    }
   ],
   "source": [
    "clf.best_params_"
   ]
  },
  {
   "cell_type": "code",
   "execution_count": 15,
   "id": "b18a2b38",
   "metadata": {},
   "outputs": [
    {
     "data": {
      "text/plain": [
       "DecisionTreeClassifier(criterion='entropy', max_depth=15)"
      ]
     },
     "execution_count": 15,
     "metadata": {},
     "output_type": "execute_result"
    }
   ],
   "source": [
    "model = clf.best_estimator_\n",
    "model"
   ]
  },
  {
   "cell_type": "markdown",
   "id": "5d0d52f8",
   "metadata": {},
   "source": [
    "### Now let's try different models with different parameters"
   ]
  },
  {
   "cell_type": "code",
   "execution_count": 16,
   "id": "d39da788",
   "metadata": {},
   "outputs": [
    {
     "data": {
      "text/plain": [
       "[{'model': 'decision_tree',\n",
       "  'best_score': 0.812,\n",
       "  'best_params': {'criterion': 'entropy', 'max_depth': 15}},\n",
       " {'model': 'svm',\n",
       "  'best_score': 0.9260000000000002,\n",
       "  'best_params': {'C': 1, 'kernel': 'rbf'}}]"
      ]
     },
     "execution_count": 16,
     "metadata": {},
     "output_type": "execute_result"
    }
   ],
   "source": [
    "from sklearn import svm\n",
    "\n",
    "model_params = {\n",
    "    'decision_tree': {\n",
    "        'model': DecisionTreeClassifier(),\n",
    "        'params' : {\n",
    "            'criterion': [\"gini\", \"entropy\"],\n",
    "            'max_depth': [5, 10, 15]\n",
    "        }  \n",
    "    },\n",
    "    'svm': {\n",
    "        'model': svm.SVC(gamma='auto'),\n",
    "        'params' : {\n",
    "            'C': [1,10,20],\n",
    "            'kernel': ['rbf','linear']            \n",
    "        }\n",
    "    }\n",
    "}\n",
    "\n",
    "scores = []\n",
    "\n",
    "for key, val in model_params.items():\n",
    "    clf = GridSearchCV(\n",
    "        val['model'],\n",
    "        val['params'],\n",
    "        cv=5,\n",
    "        return_train_score=False\n",
    "    )\n",
    "    clf.fit(X, y)\n",
    "    scores.append({\n",
    "        'model': key,\n",
    "        'best_score': clf.best_score_,\n",
    "        'best_params': clf.best_params_\n",
    "    })\n",
    "    \n",
    "scores"
   ]
  },
  {
   "cell_type": "code",
   "execution_count": 17,
   "id": "287c2c4d",
   "metadata": {},
   "outputs": [
    {
     "data": {
      "text/html": [
       "<div>\n",
       "<style scoped>\n",
       "    .dataframe tbody tr th:only-of-type {\n",
       "        vertical-align: middle;\n",
       "    }\n",
       "\n",
       "    .dataframe tbody tr th {\n",
       "        vertical-align: top;\n",
       "    }\n",
       "\n",
       "    .dataframe thead th {\n",
       "        text-align: right;\n",
       "    }\n",
       "</style>\n",
       "<table border=\"1\" class=\"dataframe\">\n",
       "  <thead>\n",
       "    <tr style=\"text-align: right;\">\n",
       "      <th></th>\n",
       "      <th>model</th>\n",
       "      <th>best_score</th>\n",
       "      <th>best_params</th>\n",
       "    </tr>\n",
       "  </thead>\n",
       "  <tbody>\n",
       "    <tr>\n",
       "      <th>0</th>\n",
       "      <td>decision_tree</td>\n",
       "      <td>0.812</td>\n",
       "      <td>{'criterion': 'entropy', 'max_depth': 15}</td>\n",
       "    </tr>\n",
       "    <tr>\n",
       "      <th>1</th>\n",
       "      <td>svm</td>\n",
       "      <td>0.926</td>\n",
       "      <td>{'C': 1, 'kernel': 'rbf'}</td>\n",
       "    </tr>\n",
       "  </tbody>\n",
       "</table>\n",
       "</div>"
      ],
      "text/plain": [
       "           model  best_score                                best_params\n",
       "0  decision_tree       0.812  {'criterion': 'entropy', 'max_depth': 15}\n",
       "1            svm       0.926                  {'C': 1, 'kernel': 'rbf'}"
      ]
     },
     "execution_count": 17,
     "metadata": {},
     "output_type": "execute_result"
    }
   ],
   "source": [
    "df = pd.DataFrame(scores, columns=[\"model\", \"best_score\", \"best_params\"])\n",
    "df"
   ]
  },
  {
   "cell_type": "code",
   "execution_count": null,
   "id": "cb14095f",
   "metadata": {},
   "outputs": [],
   "source": []
  }
 ],
 "metadata": {
  "kernelspec": {
   "display_name": "Python 3 (ipykernel)",
   "language": "python",
   "name": "python3"
  },
  "language_info": {
   "codemirror_mode": {
    "name": "ipython",
    "version": 3
   },
   "file_extension": ".py",
   "mimetype": "text/x-python",
   "name": "python",
   "nbconvert_exporter": "python",
   "pygments_lexer": "ipython3",
   "version": "3.9.13"
  }
 },
 "nbformat": 4,
 "nbformat_minor": 5
}
