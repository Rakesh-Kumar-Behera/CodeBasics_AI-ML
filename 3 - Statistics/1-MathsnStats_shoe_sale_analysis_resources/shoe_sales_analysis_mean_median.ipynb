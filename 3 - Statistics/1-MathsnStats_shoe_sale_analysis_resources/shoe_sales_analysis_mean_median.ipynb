{
 "cells": [
  {
   "cell_type": "markdown",
   "id": "f457d435",
   "metadata": {},
   "source": [
    "<h2 align=\"center\">Shoe sales analytics</h2>"
   ]
  },
  {
   "cell_type": "code",
   "execution_count": 3,
   "id": "83fe54d5",
   "metadata": {},
   "outputs": [],
   "source": [
    "import pandas as pd\n",
    "from matplotlib import pyplot as plt"
   ]
  },
  {
   "cell_type": "code",
   "execution_count": null,
   "id": "42d9c178",
   "metadata": {},
   "outputs": [],
   "source": []
  },
  {
   "cell_type": "markdown",
   "id": "b9204cb5",
   "metadata": {},
   "source": [
    "### Load Data"
   ]
  },
  {
   "cell_type": "code",
   "execution_count": 4,
   "id": "dc01a220",
   "metadata": {
    "scrolled": true
   },
   "outputs": [
    {
     "data": {
      "text/html": [
       "<div>\n",
       "<style scoped>\n",
       "    .dataframe tbody tr th:only-of-type {\n",
       "        vertical-align: middle;\n",
       "    }\n",
       "\n",
       "    .dataframe tbody tr th {\n",
       "        vertical-align: top;\n",
       "    }\n",
       "\n",
       "    .dataframe thead th {\n",
       "        text-align: right;\n",
       "    }\n",
       "</style>\n",
       "<table border=\"1\" class=\"dataframe\">\n",
       "  <thead>\n",
       "    <tr style=\"text-align: right;\">\n",
       "      <th></th>\n",
       "      <th>date</th>\n",
       "      <th>brand</th>\n",
       "      <th>sold_qty</th>\n",
       "    </tr>\n",
       "  </thead>\n",
       "  <tbody>\n",
       "    <tr>\n",
       "      <th>0</th>\n",
       "      <td>9/1/2023</td>\n",
       "      <td>Nike</td>\n",
       "      <td>24.0</td>\n",
       "    </tr>\n",
       "    <tr>\n",
       "      <th>1</th>\n",
       "      <td>9/1/2023</td>\n",
       "      <td>Adidas</td>\n",
       "      <td>14.0</td>\n",
       "    </tr>\n",
       "    <tr>\n",
       "      <th>2</th>\n",
       "      <td>9/2/2023</td>\n",
       "      <td>Nike</td>\n",
       "      <td>21.0</td>\n",
       "    </tr>\n",
       "    <tr>\n",
       "      <th>3</th>\n",
       "      <td>9/2/2023</td>\n",
       "      <td>Adidas</td>\n",
       "      <td>12.0</td>\n",
       "    </tr>\n",
       "    <tr>\n",
       "      <th>4</th>\n",
       "      <td>9/3/2023</td>\n",
       "      <td>Nike</td>\n",
       "      <td>18.0</td>\n",
       "    </tr>\n",
       "  </tbody>\n",
       "</table>\n",
       "</div>"
      ],
      "text/plain": [
       "       date   brand  sold_qty\n",
       "0  9/1/2023    Nike      24.0\n",
       "1  9/1/2023  Adidas      14.0\n",
       "2  9/2/2023    Nike      21.0\n",
       "3  9/2/2023  Adidas      12.0\n",
       "4  9/3/2023    Nike      18.0"
      ]
     },
     "execution_count": 4,
     "metadata": {},
     "output_type": "execute_result"
    }
   ],
   "source": [
    "df = pd.read_csv(\"shoe_sales.csv\")\n",
    "df.head()"
   ]
  },
  {
   "cell_type": "code",
   "execution_count": 5,
   "id": "0234f7af",
   "metadata": {},
   "outputs": [
    {
     "data": {
      "text/plain": [
       "(60, 3)"
      ]
     },
     "execution_count": 5,
     "metadata": {},
     "output_type": "execute_result"
    }
   ],
   "source": [
    "df.shape"
   ]
  },
  {
   "cell_type": "code",
   "execution_count": 7,
   "id": "dd1eec1c",
   "metadata": {},
   "outputs": [
    {
     "name": "stdout",
     "output_type": "stream",
     "text": [
      "<class 'pandas.core.frame.DataFrame'>\n",
      "RangeIndex: 60 entries, 0 to 59\n",
      "Data columns (total 3 columns):\n",
      " #   Column    Non-Null Count  Dtype  \n",
      "---  ------    --------------  -----  \n",
      " 0   date      60 non-null     object \n",
      " 1   brand     60 non-null     object \n",
      " 2   sold_qty  58 non-null     float64\n",
      "dtypes: float64(1), object(2)\n",
      "memory usage: 1.5+ KB\n"
     ]
    }
   ],
   "source": [
    "df.info()"
   ]
  },
  {
   "cell_type": "code",
   "execution_count": 6,
   "id": "e6849e21",
   "metadata": {
    "scrolled": false
   },
   "outputs": [
    {
     "data": {
      "text/html": [
       "<div>\n",
       "<style scoped>\n",
       "    .dataframe tbody tr th:only-of-type {\n",
       "        vertical-align: middle;\n",
       "    }\n",
       "\n",
       "    .dataframe tbody tr th {\n",
       "        vertical-align: top;\n",
       "    }\n",
       "\n",
       "    .dataframe thead th {\n",
       "        text-align: right;\n",
       "    }\n",
       "</style>\n",
       "<table border=\"1\" class=\"dataframe\">\n",
       "  <thead>\n",
       "    <tr style=\"text-align: right;\">\n",
       "      <th></th>\n",
       "      <th>sold_qty</th>\n",
       "    </tr>\n",
       "  </thead>\n",
       "  <tbody>\n",
       "    <tr>\n",
       "      <th>count</th>\n",
       "      <td>58.000000</td>\n",
       "    </tr>\n",
       "    <tr>\n",
       "      <th>mean</th>\n",
       "      <td>27.482759</td>\n",
       "    </tr>\n",
       "    <tr>\n",
       "      <th>std</th>\n",
       "      <td>88.519844</td>\n",
       "    </tr>\n",
       "    <tr>\n",
       "      <th>min</th>\n",
       "      <td>7.000000</td>\n",
       "    </tr>\n",
       "    <tr>\n",
       "      <th>25%</th>\n",
       "      <td>12.250000</td>\n",
       "    </tr>\n",
       "    <tr>\n",
       "      <th>50%</th>\n",
       "      <td>16.000000</td>\n",
       "    </tr>\n",
       "    <tr>\n",
       "      <th>75%</th>\n",
       "      <td>19.750000</td>\n",
       "    </tr>\n",
       "    <tr>\n",
       "      <th>max</th>\n",
       "      <td>689.000000</td>\n",
       "    </tr>\n",
       "  </tbody>\n",
       "</table>\n",
       "</div>"
      ],
      "text/plain": [
       "         sold_qty\n",
       "count   58.000000\n",
       "mean    27.482759\n",
       "std     88.519844\n",
       "min      7.000000\n",
       "25%     12.250000\n",
       "50%     16.000000\n",
       "75%     19.750000\n",
       "max    689.000000"
      ]
     },
     "execution_count": 6,
     "metadata": {},
     "output_type": "execute_result"
    }
   ],
   "source": [
    "df.describe()"
   ]
  },
  {
   "cell_type": "markdown",
   "id": "8651b5b0",
   "metadata": {},
   "source": [
    "We see 12.25 in 25% percentile which means 25% of total values are less than 12.25"
   ]
  },
  {
   "cell_type": "code",
   "execution_count": 8,
   "id": "ee3b2212",
   "metadata": {
    "scrolled": true
   },
   "outputs": [
    {
     "data": {
      "text/plain": [
       "(15,)"
      ]
     },
     "execution_count": 8,
     "metadata": {},
     "output_type": "execute_result"
    }
   ],
   "source": [
    "df.sold_qty[df.sold_qty<12.25].shape"
   ]
  },
  {
   "cell_type": "markdown",
   "id": "7e116de4",
   "metadata": {},
   "source": [
    "Total values = 60\n",
    "\n",
    "25% of total values = 60*0.25 = 15\n",
    "\n",
    "Hence you see 15 above when you use 25% percentile value (which is 12.25) to filter the data\n"
   ]
  },
  {
   "cell_type": "markdown",
   "id": "099c9ed2",
   "metadata": {},
   "source": [
    "Now let's do some min, max analysis\n",
    "\n",
    "Minimum sales quantity is 7 whereas max is 689. There is a possibility it can be an outlier. \n",
    "\n",
    "We will first separate these values out as per the brand and then do some basic plotting to figure out whats going on"
   ]
  },
  {
   "cell_type": "markdown",
   "id": "cb2b6202",
   "metadata": {},
   "source": [
    "### (1) Nike sales analysis"
   ]
  },
  {
   "cell_type": "code",
   "execution_count": 9,
   "id": "c2b91de6",
   "metadata": {},
   "outputs": [
    {
     "data": {
      "text/plain": [
       "(30, 3)"
      ]
     },
     "execution_count": 9,
     "metadata": {},
     "output_type": "execute_result"
    }
   ],
   "source": [
    "df_nike = df[df.brand==\"Nike\"]\n",
    "df_nike.shape"
   ]
  },
  {
   "cell_type": "code",
   "execution_count": 10,
   "id": "b9a1c3ff",
   "metadata": {},
   "outputs": [
    {
     "data": {
      "text/html": [
       "<div>\n",
       "<style scoped>\n",
       "    .dataframe tbody tr th:only-of-type {\n",
       "        vertical-align: middle;\n",
       "    }\n",
       "\n",
       "    .dataframe tbody tr th {\n",
       "        vertical-align: top;\n",
       "    }\n",
       "\n",
       "    .dataframe thead th {\n",
       "        text-align: right;\n",
       "    }\n",
       "</style>\n",
       "<table border=\"1\" class=\"dataframe\">\n",
       "  <thead>\n",
       "    <tr style=\"text-align: right;\">\n",
       "      <th></th>\n",
       "      <th>date</th>\n",
       "      <th>brand</th>\n",
       "      <th>sold_qty</th>\n",
       "    </tr>\n",
       "  </thead>\n",
       "  <tbody>\n",
       "    <tr>\n",
       "      <th>0</th>\n",
       "      <td>9/1/2023</td>\n",
       "      <td>Nike</td>\n",
       "      <td>24.0</td>\n",
       "    </tr>\n",
       "    <tr>\n",
       "      <th>2</th>\n",
       "      <td>9/2/2023</td>\n",
       "      <td>Nike</td>\n",
       "      <td>21.0</td>\n",
       "    </tr>\n",
       "    <tr>\n",
       "      <th>4</th>\n",
       "      <td>9/3/2023</td>\n",
       "      <td>Nike</td>\n",
       "      <td>18.0</td>\n",
       "    </tr>\n",
       "    <tr>\n",
       "      <th>6</th>\n",
       "      <td>9/4/2023</td>\n",
       "      <td>Nike</td>\n",
       "      <td>22.0</td>\n",
       "    </tr>\n",
       "    <tr>\n",
       "      <th>8</th>\n",
       "      <td>9/5/2023</td>\n",
       "      <td>Nike</td>\n",
       "      <td>20.0</td>\n",
       "    </tr>\n",
       "  </tbody>\n",
       "</table>\n",
       "</div>"
      ],
      "text/plain": [
       "       date brand  sold_qty\n",
       "0  9/1/2023  Nike      24.0\n",
       "2  9/2/2023  Nike      21.0\n",
       "4  9/3/2023  Nike      18.0\n",
       "6  9/4/2023  Nike      22.0\n",
       "8  9/5/2023  Nike      20.0"
      ]
     },
     "execution_count": 10,
     "metadata": {},
     "output_type": "execute_result"
    }
   ],
   "source": [
    "df_nike.head()"
   ]
  },
  {
   "cell_type": "code",
   "execution_count": 11,
   "id": "f05bbb36",
   "metadata": {
    "scrolled": false
   },
   "outputs": [
    {
     "data": {
      "text/html": [
       "<div>\n",
       "<style scoped>\n",
       "    .dataframe tbody tr th:only-of-type {\n",
       "        vertical-align: middle;\n",
       "    }\n",
       "\n",
       "    .dataframe tbody tr th {\n",
       "        vertical-align: top;\n",
       "    }\n",
       "\n",
       "    .dataframe thead th {\n",
       "        text-align: right;\n",
       "    }\n",
       "</style>\n",
       "<table border=\"1\" class=\"dataframe\">\n",
       "  <thead>\n",
       "    <tr style=\"text-align: right;\">\n",
       "      <th></th>\n",
       "      <th>sold_qty</th>\n",
       "    </tr>\n",
       "  </thead>\n",
       "  <tbody>\n",
       "    <tr>\n",
       "      <th>count</th>\n",
       "      <td>28.000000</td>\n",
       "    </tr>\n",
       "    <tr>\n",
       "      <th>mean</th>\n",
       "      <td>19.642857</td>\n",
       "    </tr>\n",
       "    <tr>\n",
       "      <th>std</th>\n",
       "      <td>3.117624</td>\n",
       "    </tr>\n",
       "    <tr>\n",
       "      <th>min</th>\n",
       "      <td>14.000000</td>\n",
       "    </tr>\n",
       "    <tr>\n",
       "      <th>25%</th>\n",
       "      <td>17.000000</td>\n",
       "    </tr>\n",
       "    <tr>\n",
       "      <th>50%</th>\n",
       "      <td>19.500000</td>\n",
       "    </tr>\n",
       "    <tr>\n",
       "      <th>75%</th>\n",
       "      <td>22.000000</td>\n",
       "    </tr>\n",
       "    <tr>\n",
       "      <th>max</th>\n",
       "      <td>25.000000</td>\n",
       "    </tr>\n",
       "  </tbody>\n",
       "</table>\n",
       "</div>"
      ],
      "text/plain": [
       "        sold_qty\n",
       "count  28.000000\n",
       "mean   19.642857\n",
       "std     3.117624\n",
       "min    14.000000\n",
       "25%    17.000000\n",
       "50%    19.500000\n",
       "75%    22.000000\n",
       "max    25.000000"
      ]
     },
     "execution_count": 11,
     "metadata": {},
     "output_type": "execute_result"
    }
   ],
   "source": [
    "df_nike.describe()"
   ]
  },
  {
   "cell_type": "markdown",
   "id": "a37d2093",
   "metadata": {},
   "source": [
    "Minimum sales quantity per day is 14\n",
    "\n",
    "Maximum is 25"
   ]
  },
  {
   "cell_type": "markdown",
   "id": "ae26f124",
   "metadata": {},
   "source": [
    "#### Handle NA values"
   ]
  },
  {
   "cell_type": "code",
   "execution_count": 12,
   "id": "4c9a15c0",
   "metadata": {},
   "outputs": [
    {
     "data": {
      "text/plain": [
       "date        0\n",
       "brand       0\n",
       "sold_qty    2\n",
       "dtype: int64"
      ]
     },
     "execution_count": 12,
     "metadata": {},
     "output_type": "execute_result"
    }
   ],
   "source": [
    "df_nike.isnull().sum()"
   ]
  },
  {
   "cell_type": "code",
   "execution_count": 13,
   "id": "69673f88",
   "metadata": {},
   "outputs": [
    {
     "data": {
      "text/html": [
       "<div>\n",
       "<style scoped>\n",
       "    .dataframe tbody tr th:only-of-type {\n",
       "        vertical-align: middle;\n",
       "    }\n",
       "\n",
       "    .dataframe tbody tr th {\n",
       "        vertical-align: top;\n",
       "    }\n",
       "\n",
       "    .dataframe thead th {\n",
       "        text-align: right;\n",
       "    }\n",
       "</style>\n",
       "<table border=\"1\" class=\"dataframe\">\n",
       "  <thead>\n",
       "    <tr style=\"text-align: right;\">\n",
       "      <th></th>\n",
       "      <th>date</th>\n",
       "      <th>brand</th>\n",
       "      <th>sold_qty</th>\n",
       "    </tr>\n",
       "  </thead>\n",
       "  <tbody>\n",
       "    <tr>\n",
       "      <th>32</th>\n",
       "      <td>9/17/2023</td>\n",
       "      <td>Nike</td>\n",
       "      <td>NaN</td>\n",
       "    </tr>\n",
       "    <tr>\n",
       "      <th>48</th>\n",
       "      <td>9/25/2023</td>\n",
       "      <td>Nike</td>\n",
       "      <td>NaN</td>\n",
       "    </tr>\n",
       "  </tbody>\n",
       "</table>\n",
       "</div>"
      ],
      "text/plain": [
       "         date brand  sold_qty\n",
       "32  9/17/2023  Nike       NaN\n",
       "48  9/25/2023  Nike       NaN"
      ]
     },
     "execution_count": 13,
     "metadata": {},
     "output_type": "execute_result"
    }
   ],
   "source": [
    "df_nike[df_nike.sold_qty.isnull()]"
   ]
  },
  {
   "cell_type": "markdown",
   "id": "1609f25a",
   "metadata": {},
   "source": [
    "**Now how should we fill NA values for sold_qty? Using median is one way**"
   ]
  },
  {
   "cell_type": "code",
   "execution_count": 14,
   "id": "2beeb939",
   "metadata": {},
   "outputs": [
    {
     "data": {
      "text/plain": [
       "np.float64(19.5)"
      ]
     },
     "execution_count": 14,
     "metadata": {},
     "output_type": "execute_result"
    }
   ],
   "source": [
    "df_nike.sold_qty.median()"
   ]
  },
  {
   "cell_type": "code",
   "execution_count": 15,
   "id": "ea838589",
   "metadata": {},
   "outputs": [
    {
     "data": {
      "text/plain": [
       "20"
      ]
     },
     "execution_count": 15,
     "metadata": {},
     "output_type": "execute_result"
    }
   ],
   "source": [
    "val = round(df_nike.sold_qty.median())\n",
    "val"
   ]
  },
  {
   "cell_type": "code",
   "execution_count": 16,
   "id": "4c134097",
   "metadata": {},
   "outputs": [
    {
     "name": "stderr",
     "output_type": "stream",
     "text": [
      "C:\\Users\\Rakesh_PC\\AppData\\Local\\Temp\\ipykernel_14392\\3809410123.py:1: FutureWarning: A value is trying to be set on a copy of a DataFrame or Series through chained assignment using an inplace method.\n",
      "The behavior will change in pandas 3.0. This inplace method will never work because the intermediate object on which we are setting values always behaves as a copy.\n",
      "\n",
      "For example, when doing 'df[col].method(value, inplace=True)', try using 'df.method({col: value}, inplace=True)' or df[col] = df[col].method(value) instead, to perform the operation inplace on the original object.\n",
      "\n",
      "\n",
      "  df_nike.sold_qty.fillna(val, inplace=True)\n",
      "C:\\Users\\Rakesh_PC\\AppData\\Local\\Temp\\ipykernel_14392\\3809410123.py:1: SettingWithCopyWarning: \n",
      "A value is trying to be set on a copy of a slice from a DataFrame\n",
      "\n",
      "See the caveats in the documentation: https://pandas.pydata.org/pandas-docs/stable/user_guide/indexing.html#returning-a-view-versus-a-copy\n",
      "  df_nike.sold_qty.fillna(val, inplace=True)\n"
     ]
    }
   ],
   "source": [
    "df_nike.sold_qty.fillna(val, inplace=True)"
   ]
  },
  {
   "cell_type": "code",
   "execution_count": 17,
   "id": "944d9269",
   "metadata": {
    "scrolled": true
   },
   "outputs": [
    {
     "data": {
      "text/plain": [
       "date        0\n",
       "brand       0\n",
       "sold_qty    0\n",
       "dtype: int64"
      ]
     },
     "execution_count": 17,
     "metadata": {},
     "output_type": "execute_result"
    }
   ],
   "source": [
    "df_nike.isnull().sum()"
   ]
  },
  {
   "cell_type": "code",
   "execution_count": 18,
   "id": "f02a9d19",
   "metadata": {
    "scrolled": true
   },
   "outputs": [
    {
     "data": {
      "text/html": [
       "<div>\n",
       "<style scoped>\n",
       "    .dataframe tbody tr th:only-of-type {\n",
       "        vertical-align: middle;\n",
       "    }\n",
       "\n",
       "    .dataframe tbody tr th {\n",
       "        vertical-align: top;\n",
       "    }\n",
       "\n",
       "    .dataframe thead th {\n",
       "        text-align: right;\n",
       "    }\n",
       "</style>\n",
       "<table border=\"1\" class=\"dataframe\">\n",
       "  <thead>\n",
       "    <tr style=\"text-align: right;\">\n",
       "      <th></th>\n",
       "      <th>sold_qty</th>\n",
       "    </tr>\n",
       "  </thead>\n",
       "  <tbody>\n",
       "    <tr>\n",
       "      <th>count</th>\n",
       "      <td>30.000000</td>\n",
       "    </tr>\n",
       "    <tr>\n",
       "      <th>mean</th>\n",
       "      <td>19.666667</td>\n",
       "    </tr>\n",
       "    <tr>\n",
       "      <th>std</th>\n",
       "      <td>3.009563</td>\n",
       "    </tr>\n",
       "    <tr>\n",
       "      <th>min</th>\n",
       "      <td>14.000000</td>\n",
       "    </tr>\n",
       "    <tr>\n",
       "      <th>25%</th>\n",
       "      <td>17.250000</td>\n",
       "    </tr>\n",
       "    <tr>\n",
       "      <th>50%</th>\n",
       "      <td>20.000000</td>\n",
       "    </tr>\n",
       "    <tr>\n",
       "      <th>75%</th>\n",
       "      <td>22.000000</td>\n",
       "    </tr>\n",
       "    <tr>\n",
       "      <th>max</th>\n",
       "      <td>25.000000</td>\n",
       "    </tr>\n",
       "  </tbody>\n",
       "</table>\n",
       "</div>"
      ],
      "text/plain": [
       "        sold_qty\n",
       "count  30.000000\n",
       "mean   19.666667\n",
       "std     3.009563\n",
       "min    14.000000\n",
       "25%    17.250000\n",
       "50%    20.000000\n",
       "75%    22.000000\n",
       "max    25.000000"
      ]
     },
     "execution_count": 18,
     "metadata": {},
     "output_type": "execute_result"
    }
   ],
   "source": [
    "df_nike.describe()"
   ]
  },
  {
   "cell_type": "code",
   "execution_count": 19,
   "id": "802b2889",
   "metadata": {},
   "outputs": [
    {
     "data": {
      "text/plain": [
       "np.float64(590.0)"
      ]
     },
     "execution_count": 19,
     "metadata": {},
     "output_type": "execute_result"
    }
   ],
   "source": [
    "df_nike.sold_qty.sum()"
   ]
  },
  {
   "cell_type": "markdown",
   "id": "2b3a8d13",
   "metadata": {},
   "source": [
    "#### Nike Shoe Sales Insights\n",
    "\n",
    "1. On average we sell 20 nike shoes per day\n",
    "2. The daily sales range is 14 to 25\n",
    "3. In september month we sold 590 adidas shoes"
   ]
  },
  {
   "cell_type": "markdown",
   "id": "bc9c7765",
   "metadata": {},
   "source": [
    "### (2) Adidas sales analysis"
   ]
  },
  {
   "cell_type": "code",
   "execution_count": 20,
   "id": "479abcd7",
   "metadata": {},
   "outputs": [
    {
     "data": {
      "text/plain": [
       "(30, 3)"
      ]
     },
     "execution_count": 20,
     "metadata": {},
     "output_type": "execute_result"
    }
   ],
   "source": [
    "df_adidas = df[df.brand==\"Adidas\"]\n",
    "df_adidas.shape"
   ]
  },
  {
   "cell_type": "code",
   "execution_count": 21,
   "id": "c455b129",
   "metadata": {},
   "outputs": [
    {
     "data": {
      "text/html": [
       "<div>\n",
       "<style scoped>\n",
       "    .dataframe tbody tr th:only-of-type {\n",
       "        vertical-align: middle;\n",
       "    }\n",
       "\n",
       "    .dataframe tbody tr th {\n",
       "        vertical-align: top;\n",
       "    }\n",
       "\n",
       "    .dataframe thead th {\n",
       "        text-align: right;\n",
       "    }\n",
       "</style>\n",
       "<table border=\"1\" class=\"dataframe\">\n",
       "  <thead>\n",
       "    <tr style=\"text-align: right;\">\n",
       "      <th></th>\n",
       "      <th>date</th>\n",
       "      <th>brand</th>\n",
       "      <th>sold_qty</th>\n",
       "    </tr>\n",
       "  </thead>\n",
       "  <tbody>\n",
       "    <tr>\n",
       "      <th>1</th>\n",
       "      <td>9/1/2023</td>\n",
       "      <td>Adidas</td>\n",
       "      <td>14.0</td>\n",
       "    </tr>\n",
       "    <tr>\n",
       "      <th>3</th>\n",
       "      <td>9/2/2023</td>\n",
       "      <td>Adidas</td>\n",
       "      <td>12.0</td>\n",
       "    </tr>\n",
       "    <tr>\n",
       "      <th>5</th>\n",
       "      <td>9/3/2023</td>\n",
       "      <td>Adidas</td>\n",
       "      <td>11.0</td>\n",
       "    </tr>\n",
       "    <tr>\n",
       "      <th>7</th>\n",
       "      <td>9/4/2023</td>\n",
       "      <td>Adidas</td>\n",
       "      <td>13.0</td>\n",
       "    </tr>\n",
       "    <tr>\n",
       "      <th>9</th>\n",
       "      <td>9/5/2023</td>\n",
       "      <td>Adidas</td>\n",
       "      <td>10.0</td>\n",
       "    </tr>\n",
       "  </tbody>\n",
       "</table>\n",
       "</div>"
      ],
      "text/plain": [
       "       date   brand  sold_qty\n",
       "1  9/1/2023  Adidas      14.0\n",
       "3  9/2/2023  Adidas      12.0\n",
       "5  9/3/2023  Adidas      11.0\n",
       "7  9/4/2023  Adidas      13.0\n",
       "9  9/5/2023  Adidas      10.0"
      ]
     },
     "execution_count": 21,
     "metadata": {},
     "output_type": "execute_result"
    }
   ],
   "source": [
    "df_adidas.head()"
   ]
  },
  {
   "cell_type": "code",
   "execution_count": 22,
   "id": "efbd513e",
   "metadata": {
    "scrolled": true
   },
   "outputs": [
    {
     "data": {
      "text/html": [
       "<div>\n",
       "<style scoped>\n",
       "    .dataframe tbody tr th:only-of-type {\n",
       "        vertical-align: middle;\n",
       "    }\n",
       "\n",
       "    .dataframe tbody tr th {\n",
       "        vertical-align: top;\n",
       "    }\n",
       "\n",
       "    .dataframe thead th {\n",
       "        text-align: right;\n",
       "    }\n",
       "</style>\n",
       "<table border=\"1\" class=\"dataframe\">\n",
       "  <thead>\n",
       "    <tr style=\"text-align: right;\">\n",
       "      <th></th>\n",
       "      <th>sold_qty</th>\n",
       "    </tr>\n",
       "  </thead>\n",
       "  <tbody>\n",
       "    <tr>\n",
       "      <th>count</th>\n",
       "      <td>30.000000</td>\n",
       "    </tr>\n",
       "    <tr>\n",
       "      <th>mean</th>\n",
       "      <td>34.800000</td>\n",
       "    </tr>\n",
       "    <tr>\n",
       "      <th>std</th>\n",
       "      <td>123.602366</td>\n",
       "    </tr>\n",
       "    <tr>\n",
       "      <th>min</th>\n",
       "      <td>7.000000</td>\n",
       "    </tr>\n",
       "    <tr>\n",
       "      <th>25%</th>\n",
       "      <td>10.000000</td>\n",
       "    </tr>\n",
       "    <tr>\n",
       "      <th>50%</th>\n",
       "      <td>12.500000</td>\n",
       "    </tr>\n",
       "    <tr>\n",
       "      <th>75%</th>\n",
       "      <td>15.000000</td>\n",
       "    </tr>\n",
       "    <tr>\n",
       "      <th>max</th>\n",
       "      <td>689.000000</td>\n",
       "    </tr>\n",
       "  </tbody>\n",
       "</table>\n",
       "</div>"
      ],
      "text/plain": [
       "         sold_qty\n",
       "count   30.000000\n",
       "mean    34.800000\n",
       "std    123.602366\n",
       "min      7.000000\n",
       "25%     10.000000\n",
       "50%     12.500000\n",
       "75%     15.000000\n",
       "max    689.000000"
      ]
     },
     "execution_count": 22,
     "metadata": {},
     "output_type": "execute_result"
    }
   ],
   "source": [
    "df_adidas.describe()"
   ]
  },
  {
   "cell_type": "code",
   "execution_count": 30,
   "id": "18b3b813",
   "metadata": {
    "scrolled": false
   },
   "outputs": [],
   "source": [
    "def plot_qty():\n",
    "    plt.figure(figsize=(15, 6))\n",
    "    \n",
    "    dates = df_nike['date']\n",
    "    \n",
    "    plt.plot(dates, df_nike['sold_qty'], marker='o', label='Nike', color='blue')\n",
    "    plt.plot(dates, df_adidas['sold_qty'], marker='o', label='Adidas', color='red')\n",
    "    \n",
    "    plt.xlabel('Date')\n",
    "    plt.ylabel('Total Qty Sold')\n",
    "    plt.title('Daily Sales Qty for Nike and Adidas in September 2023')\n",
    "    plt.xticks(rotation=45)\n",
    "    plt.legend()\n",
    "    plt.tight_layout()\n",
    "    plt.grid(True, which='both', linestyle='--', linewidth=0.5)\n",
    "    plt.show()"
   ]
  },
  {
   "cell_type": "code",
   "execution_count": 31,
   "id": "1a293c81",
   "metadata": {
    "scrolled": false
   },
   "outputs": [
    {
     "data": {
      "image/png": "[encoded data removed]",
      "text/plain": [
       "<Figure size 1500x600 with 1 Axes>"
      ]
     },
     "metadata": {},
     "output_type": "display_data"
    }
   ],
   "source": [
    "plot_qty()"
   ]
  },
  {
   "cell_type": "markdown",
   "id": "cce7aa39",
   "metadata": {},
   "source": [
    "Above plot shows an outlier for a red line (Adidas sales). We need to treat it. Since the value is very high compared to normal sales quantity, we will just replace that with a median value "
   ]
  },
  {
   "cell_type": "code",
   "execution_count": 23,
   "id": "e2923d71",
   "metadata": {},
   "outputs": [
    {
     "data": {
      "text/plain": [
       "count     30.000000\n",
       "mean      34.800000\n",
       "std      123.602366\n",
       "min        7.000000\n",
       "25%       10.000000\n",
       "50%       12.500000\n",
       "75%       15.000000\n",
       "max      689.000000\n",
       "Name: sold_qty, dtype: float64"
      ]
     },
     "execution_count": 23,
     "metadata": {},
     "output_type": "execute_result"
    }
   ],
   "source": [
    "df_adidas[\"sold_qty\"].describe()"
   ]
  },
  {
   "cell_type": "markdown",
   "id": "cedb196a",
   "metadata": {},
   "source": [
    "75% percentile is 15.0, We will print all the values of about 75% percentile for manual examination"
   ]
  },
  {
   "cell_type": "code",
   "execution_count": 25,
   "id": "f83edeb0",
   "metadata": {
    "scrolled": true
   },
   "outputs": [
    {
     "name": "stderr",
     "output_type": "stream",
     "text": [
      "C:\\Users\\dhava\\AppData\\Local\\Temp\\ipykernel_19972\\917145973.py:1: UserWarning: Boolean Series key will be reindexed to match DataFrame index.\n",
      "  df_adidas[df.sold_qty>15]\n"
     ]
    },
    {
     "data": {
      "text/html": [
       "<div>\n",
       "<style scoped>\n",
       "    .dataframe tbody tr th:only-of-type {\n",
       "        vertical-align: middle;\n",
       "    }\n",
       "\n",
       "    .dataframe tbody tr th {\n",
       "        vertical-align: top;\n",
       "    }\n",
       "\n",
       "    .dataframe thead th {\n",
       "        text-align: right;\n",
       "    }\n",
       "</style>\n",
       "<table border=\"1\" class=\"dataframe\">\n",
       "  <thead>\n",
       "    <tr style=\"text-align: right;\">\n",
       "      <th></th>\n",
       "      <th>date</th>\n",
       "      <th>brand</th>\n",
       "      <th>sold_qty</th>\n",
       "    </tr>\n",
       "  </thead>\n",
       "  <tbody>\n",
       "    <tr>\n",
       "      <th>13</th>\n",
       "      <td>9/7/2023</td>\n",
       "      <td>Adidas</td>\n",
       "      <td>16.0</td>\n",
       "    </tr>\n",
       "    <tr>\n",
       "      <th>17</th>\n",
       "      <td>9/9/2023</td>\n",
       "      <td>Adidas</td>\n",
       "      <td>17.0</td>\n",
       "    </tr>\n",
       "    <tr>\n",
       "      <th>23</th>\n",
       "      <td>9/12/2023</td>\n",
       "      <td>Adidas</td>\n",
       "      <td>689.0</td>\n",
       "    </tr>\n",
       "    <tr>\n",
       "      <th>39</th>\n",
       "      <td>9/20/2023</td>\n",
       "      <td>Adidas</td>\n",
       "      <td>19.0</td>\n",
       "    </tr>\n",
       "    <tr>\n",
       "      <th>41</th>\n",
       "      <td>9/21/2023</td>\n",
       "      <td>Adidas</td>\n",
       "      <td>18.0</td>\n",
       "    </tr>\n",
       "    <tr>\n",
       "      <th>59</th>\n",
       "      <td>9/30/2023</td>\n",
       "      <td>Adidas</td>\n",
       "      <td>16.0</td>\n",
       "    </tr>\n",
       "  </tbody>\n",
       "</table>\n",
       "</div>"
      ],
      "text/plain": [
       "         date   brand  sold_qty\n",
       "13   9/7/2023  Adidas      16.0\n",
       "17   9/9/2023  Adidas      17.0\n",
       "23  9/12/2023  Adidas     689.0\n",
       "39  9/20/2023  Adidas      19.0\n",
       "41  9/21/2023  Adidas      18.0\n",
       "59  9/30/2023  Adidas      16.0"
      ]
     },
     "execution_count": 25,
     "metadata": {},
     "output_type": "execute_result"
    }
   ],
   "source": [
    "df_adidas[df.sold_qty>15]"
   ]
  },
  {
   "cell_type": "markdown",
   "id": "60d52a60",
   "metadata": {},
   "source": [
    "We can clearly see that the sold quantity on 9/12/2023 is an outlier. Since this is one off outlier we can manually treat it and replace it with median value. In the subsequent lectures, we will explore better ways of handling outliers such as using standard deviation"
   ]
  },
  {
   "cell_type": "code",
   "execution_count": 24,
   "id": "1c179191",
   "metadata": {},
   "outputs": [
    {
     "name": "stderr",
     "output_type": "stream",
     "text": [
      "C:\\Users\\Rakesh_PC\\AppData\\Local\\Temp\\ipykernel_14392\\2013971404.py:1: FutureWarning: A value is trying to be set on a copy of a DataFrame or Series through chained assignment using an inplace method.\n",
      "The behavior will change in pandas 3.0. This inplace method will never work because the intermediate object on which we are setting values always behaves as a copy.\n",
      "\n",
      "For example, when doing 'df[col].method(value, inplace=True)', try using 'df.method({col: value}, inplace=True)' or df[col] = df[col].method(value) instead, to perform the operation inplace on the original object.\n",
      "\n",
      "\n",
      "  df_adidas[\"sold_qty\"].replace(689, 12, inplace=True)\n",
      "C:\\Users\\Rakesh_PC\\AppData\\Local\\Temp\\ipykernel_14392\\2013971404.py:1: SettingWithCopyWarning: \n",
      "A value is trying to be set on a copy of a slice from a DataFrame\n",
      "\n",
      "See the caveats in the documentation: https://pandas.pydata.org/pandas-docs/stable/user_guide/indexing.html#returning-a-view-versus-a-copy\n",
      "  df_adidas[\"sold_qty\"].replace(689, 12, inplace=True)\n"
     ]
    }
   ],
   "source": [
    "df_adidas[\"sold_qty\"].replace(689, 12, inplace=True)"
   ]
  },
  {
   "cell_type": "code",
   "execution_count": 25,
   "id": "c6fb0082",
   "metadata": {
    "scrolled": true
   },
   "outputs": [
    {
     "data": {
      "text/plain": [
       "count    30.000000\n",
       "mean     12.233333\n",
       "std       3.287210\n",
       "min       7.000000\n",
       "25%      10.000000\n",
       "50%      12.000000\n",
       "75%      14.750000\n",
       "max      19.000000\n",
       "Name: sold_qty, dtype: float64"
      ]
     },
     "execution_count": 25,
     "metadata": {},
     "output_type": "execute_result"
    }
   ],
   "source": [
    "df_adidas[\"sold_qty\"].describe()"
   ]
  },
  {
   "cell_type": "code",
   "execution_count": 28,
   "id": "166bf66c",
   "metadata": {},
   "outputs": [
    {
     "data": {
      "text/plain": [
       "np.float64(367.0)"
      ]
     },
     "execution_count": 28,
     "metadata": {},
     "output_type": "execute_result"
    }
   ],
   "source": [
    "df_adidas[\"sold_qty\"].sum()"
   ]
  },
  {
   "cell_type": "markdown",
   "id": "11a1c172",
   "metadata": {},
   "source": [
    "#### Adidas Shoe Sales Insights\n",
    "\n",
    "1. On average we sell 12 adidas shoes per day\n",
    "2. The daily sales range is 7 to 19\n",
    "3. In september month we sold 367 adidas shoes"
   ]
  },
  {
   "cell_type": "code",
   "execution_count": 29,
   "id": "83627cce",
   "metadata": {
    "scrolled": false
   },
   "outputs": [
    {
     "ename": "NameError",
     "evalue": "name 'plot_qty' is not defined",
     "output_type": "error",
     "traceback": [
      "\u001b[1;31m---------------------------------------------------------------------------\u001b[0m",
      "\u001b[1;31mNameError\u001b[0m                                 Traceback (most recent call last)",
      "Cell \u001b[1;32mIn[29], line 1\u001b[0m\n\u001b[1;32m----> 1\u001b[0m \u001b[43mplot_qty\u001b[49m()\n",
      "\u001b[1;31mNameError\u001b[0m: name 'plot_qty' is not defined"
     ]
    }
   ],
   "source": [
    "plot_qty()"
   ]
  },
  {
   "cell_type": "markdown",
   "id": "ec0ab9fd",
   "metadata": {},
   "source": [
    "#### Overall Insight is that Sales of Nike shoes are higher than Adidas on any given date"
   ]
  }
 ],
 "metadata": {
  "kernelspec": {
   "display_name": "Python 3 (ipykernel)",
   "language": "python",
   "name": "python3"
  },
  "language_info": {
   "codemirror_mode": {
    "name": "ipython",
    "version": 3
   },
   "file_extension": ".py",
   "mimetype": "text/x-python",
   "name": "python",
   "nbconvert_exporter": "python",
   "pygments_lexer": "ipython3",
   "version": "3.10.14"
  }
 },
 "nbformat": 4,
 "nbformat_minor": 5
}
